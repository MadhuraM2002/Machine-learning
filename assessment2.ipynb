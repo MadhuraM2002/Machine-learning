{
  "nbformat": 4,
  "nbformat_minor": 0,
  "metadata": {
    "colab": {
      "provenance": [],
      "authorship_tag": "ABX9TyO+0tLIqsxkJhZeNmGGQ8RG",
      "include_colab_link": true
    },
    "kernelspec": {
      "name": "python3",
      "display_name": "Python 3"
    },
    "language_info": {
      "name": "python"
    }
  },
  "cells": [
    {
      "cell_type": "markdown",
      "metadata": {
        "id": "view-in-github",
        "colab_type": "text"
      },
      "source": [
        "<a href=\"https://colab.research.google.com/github/MadhuraM2002/Machine-learning/blob/main/assessment2.ipynb\" target=\"_parent\"><img src=\"https://colab.research.google.com/assets/colab-badge.svg\" alt=\"Open In Colab\"/></a>"
      ]
    },
    {
      "cell_type": "markdown",
      "source": [
        "5)Question\n",
        "define function as Humpty_Dumpty, writa python progarm to check the givin number is divisible by 5 and 3.\n",
        "if nu,mber is divisible by 3 then return the Dumpty function. else if number is divisible by 5 then return the Humpty. else if given number is divisible by both 3 and 5 then return the Dumpty_humpty fun.\n",
        "else number is not divisible by both 3 and 5 then return that value."
      ],
      "metadata": {
        "id": "f1Nb7JGlg5Jb"
      }
    },
    {
      "cell_type": "code",
      "source": [
        "def Humpty_dumpty():\n",
        "    try:\n",
        "        number = int(input(\"Enter a number: \"))  # Take input from the user\n",
        "        if number % 3 == 0 and number % 5 == 0:\n",
        "          print(\"Number is divisible by both 3 and 5\")\n",
        "          print(\"Humpty_Dumpty\")\n",
        "        elif number % 5 == 0:\n",
        "            print(\"Number is only  divisible by 5\")\n",
        "            print(\"Dumpty\")\n",
        "        elif number % 3 == 0:\n",
        "           print(\"Number is only  divisible by 3\")\n",
        "           print(\"Humpty\")\n",
        "        else:\n",
        "            print(\"Number isnot divisible by both 3 and 5\")\n",
        "            print(number)\n",
        "    except ValueError:\n",
        "        print(\"Invalid input. Please enter a valid number.\")\n",
        "Humpty_dumpty()"
      ],
      "metadata": {
        "colab": {
          "base_uri": "https://localhost:8080/"
        },
        "id": "PRco1eophCOS",
        "outputId": "e82958e7-96f0-4cab-8cf3-68a90e99d891"
      },
      "execution_count": null,
      "outputs": [
        {
          "output_type": "stream",
          "name": "stdout",
          "text": [
            "Enter a number: 1\n",
            "Number isnot divisible by both 3 and 5\n",
            "1\n"
          ]
        }
      ]
    },
    {
      "cell_type": "markdown",
      "source": [
        "6)Question\n",
        "Create matrix1 and matrix2 then write program to multiply the both matrix"
      ],
      "metadata": {
        "id": "dF0mf8G2lc8e"
      }
    },
    {
      "cell_type": "code",
      "source": [
        "import numpy as np\n",
        "matrix1 = np.array([[1, 3, 5],\n",
        "                   [7, 9, 11],\n",
        "                   [13, 15, 17]])\n",
        "\n",
        "matrix2 = np.array([[2, 4, 6],\n",
        "                   [8, 10, 12],\n",
        "                   [14, 16, 18]])\n",
        "result_matrix = np.dot(matrix1, matrix2)\n",
        "print(\"Result of Matrix Multiplication:\")\n",
        "print(result_matrix)"
      ],
      "metadata": {
        "colab": {
          "base_uri": "https://localhost:8080/"
        },
        "id": "UoHpYpSciN_q",
        "outputId": "736225f7-ea33-4c2b-8d11-69293dcca495"
      },
      "execution_count": null,
      "outputs": [
        {
          "output_type": "stream",
          "name": "stdout",
          "text": [
            "Result of Matrix Multiplication:\n",
            "[[ 96 114 132]\n",
            " [240 294 348]\n",
            " [384 474 564]]\n"
          ]
        }
      ]
    },
    {
      "cell_type": "markdown",
      "source": [
        "7)Question\n",
        "Write python to do sum of numbers which are divisible by 3 and 5 and by giving the range. ex: given range is 20, from 1 to 20 numbers 3 5 6 9 10 12 15 18 20.   "
      ],
      "metadata": {
        "id": "YzpZdkrwmA_w"
      }
    },
    {
      "cell_type": "code",
      "source": [
        "sum=0\n",
        "Number= int(input(\"Enter the range\"))\n",
        "print(Number)\n",
        "for i in range(1,Number+1):\n",
        "  if(i%3==0 or i%5==0):\n",
        "    print(i,end=\" \")\n",
        "    sum=sum+i\n",
        "print(\"\\nSum:\",sum)"
      ],
      "metadata": {
        "colab": {
          "base_uri": "https://localhost:8080/"
        },
        "id": "ZwnS3gILmCvF",
        "outputId": "e5a8c417-a220-4021-daa6-0534f5f8c8d9"
      },
      "execution_count": 1,
      "outputs": [
        {
          "output_type": "stream",
          "name": "stdout",
          "text": [
            "Enter the range20\n",
            "20\n",
            "3 5 6 9 10 12 15 18 20 \n",
            "Sum: 98\n"
          ]
        }
      ]
    },
    {
      "cell_type": "markdown",
      "source": [
        "8)Question\n",
        "write python program to find slop and intercept.\n",
        "And also plot which is reading from file."
      ],
      "metadata": {
        "id": "lNYxg_CgnC-n"
      }
    },
    {
      "cell_type": "code",
      "source": [
        "import pandas as pd\n",
        "import matplotlib.pyplot as plt\n",
        "import numpy as np\n",
        "from scipy import stats\n",
        "data = pd.read_csv(\"/content/data2.csv\")\n",
        "x = data['x']\n",
        "y = data['y']\n",
        "plt.scatter(x, y)\n",
        "slope, intercept, r_value, p_value, std_err = stats.linregress(x, y)\n",
        "line = slope * x + intercept\n",
        "plt.plot(x, line, color='red', label=f'Linear Fit (m={slope:.2f}, c={intercept:.2f})')\n",
        "plt.xlabel(\"X\")\n",
        "plt.ylabel(\"Y\")\n",
        "plt.legend()\n",
        "plt.show()\n",
        "print(f\"Slope (m): {slope:.2f}\")\n",
        "print(f\"Intercept (c): {intercept:.2f}\")"
      ],
      "metadata": {
        "colab": {
          "base_uri": "https://localhost:8080/",
          "height": 484
        },
        "id": "UAUtXcK-nAux",
        "outputId": "184f1aa0-f9b5-4fd6-d563-bb8f6fa65299"
      },
      "execution_count": null,
      "outputs": [
        {
          "output_type": "display_data",
          "data": {
            "text/plain": [
              "<Figure size 640x480 with 1 Axes>"
            ],
            "image/png": "[encoded data removed]"
          },
          "metadata": {}
        },
        {
          "output_type": "stream",
          "name": "stdout",
          "text": [
            "Slope (m): 0.86\n",
            "Intercept (c): 14.23\n"
          ]
        }
      ]
    },
    {
      "cell_type": "code",
      "source": [],
      "metadata": {
        "id": "AOD6CySApCex"
      },
      "execution_count": null,
      "outputs": []
    }
  ]
}