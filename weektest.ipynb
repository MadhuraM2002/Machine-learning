{
  "nbformat": 4,
  "nbformat_minor": 0,
  "metadata": {
    "colab": {
      "provenance": [],
      "authorship_tag": "ABX9TyNYPl45s+hG7PbsHUkRGT9m",
      "include_colab_link": true
    },
    "kernelspec": {
      "name": "python3",
      "display_name": "Python 3"
    },
    "language_info": {
      "name": "python"
    }
  },
  "cells": [
    {
      "cell_type": "markdown",
      "metadata": {
        "id": "view-in-github",
        "colab_type": "text"
      },
      "source": [
        "<a href=\"https://colab.research.google.com/github/MadhuraM2002/Machine-learning/blob/main/weektest.ipynb\" target=\"_parent\"><img src=\"https://colab.research.google.com/assets/colab-badge.svg\" alt=\"Open In Colab\"/></a>"
      ]
    },
    {
      "cell_type": "markdown",
      "source": [
        "Take 10 number from user, find even and odd number make seperate list for all."
      ],
      "metadata": {
        "id": "Soqo-eCgFZHy"
      }
    },
    {
      "cell_type": "code",
      "execution_count": null,
      "metadata": {
        "colab": {
          "base_uri": "https://localhost:8080/"
        },
        "id": "tM6X-O9SykkA",
        "outputId": "348ff9cc-e195-4a70-d6a6-a40057e002d9"
      },
      "outputs": [
        {
          "output_type": "stream",
          "name": "stdout",
          "text": [
            "Enter number of elements: 10\n",
            "Enter a number: 1\n",
            "Enter a number: 2\n",
            "Enter a number: 3\n",
            "Enter a number: 4\n",
            "Enter a number: 5\n",
            "Enter a number: 6\n",
            "Enter a number: 7\n",
            "Enter a number: 8\n",
            "Enter a number: 9\n",
            "Enter a number: 10\n",
            "Odd number: 1\n",
            "Even number: 2\n",
            "Odd number: 3\n",
            "Even number: 4\n",
            "Odd number: 5\n",
            "Even number: 6\n",
            "Odd number: 7\n",
            "Even number: 8\n",
            "Odd number: 9\n",
            "Even number: 10\n",
            "List of all numbers: [1, 2, 3, 4, 5, 6, 7, 8, 9, 10]\n",
            "List of even numbers: [2, 4, 6, 8, 10]\n",
            "List of odd numbers: [1, 3, 5, 7, 9]\n"
          ]
        }
      ],
      "source": [
        "lis1 = []\n",
        "lis2 = []\n",
        "lis3 = []\n",
        "\n",
        "x = int(input(\"Enter number of elements: \"))\n",
        "\n",
        "for i in range(x):\n",
        "    y = int(input(\"Enter a number: \"))\n",
        "    lis1.append(y)\n",
        "\n",
        "for num in lis1:\n",
        "    if num % 2 == 0:\n",
        "        print(\"Even number:\", num)\n",
        "        lis2.append(num)\n",
        "    else:\n",
        "        print(\"Odd number:\", num)\n",
        "        lis3.append(num)\n",
        "\n",
        "print(\"List of all numbers:\", lis1)\n",
        "print(\"List of even numbers:\", lis2)\n",
        "print(\"List of odd numbers:\", lis3)\n"
      ]
    },
    {
      "cell_type": "markdown",
      "source": [
        "Take user input to check pallindrome or not"
      ],
      "metadata": {
        "id": "4MIqW2JoFsqA"
      }
    },
    {
      "cell_type": "code",
      "source": [
        "lis1 = []\n",
        "x = input(\"Enter anything to check palindrome or not: \")\n",
        "x = x.lower()\n",
        "for char in x:\n",
        "    lis1.append(char)\n",
        "length = len(lis1)\n",
        "half_length = length // 2\n",
        "\n",
        "pos = 0\n",
        "neg = -1\n",
        "for i in range(half_length):\n",
        "    if lis1[pos] == lis1[neg]:\n",
        "        pos += 1\n",
        "        neg -= 1\n",
        "    else:\n",
        "        print(\"Not a palindrome:\", x)\n",
        "        break\n",
        "else:\n",
        "    print(\"Palindrome:\", x)"
      ],
      "metadata": {
        "colab": {
          "base_uri": "https://localhost:8080/"
        },
        "id": "yXvoYoi9zJly",
        "outputId": "39fd2ce6-e7b2-4e6a-f822-8a0e63c69352"
      },
      "execution_count": null,
      "outputs": [
        {
          "output_type": "stream",
          "name": "stdout",
          "text": [
            "Enter anything to check palindrome or not: gadag\n",
            "Palindrome: gadag\n"
          ]
        }
      ]
    },
    {
      "cell_type": "markdown",
      "source": [
        "Take user input to check prime number."
      ],
      "metadata": {
        "id": "Vy7nCbtnF9jo"
      }
    },
    {
      "cell_type": "code",
      "source": [
        "def is_prime(number):\n",
        "    if number <= 1:\n",
        "        return False\n",
        "    if number <= 3:\n",
        "        return True\n",
        "    if number % 2 == 0 or number % 3 == 0:\n",
        "        return False\n",
        "    i = 5\n",
        "    while i * i <= number:\n",
        "        if number % i == 0 or number % (i + 2) == 0:\n",
        "            return False\n",
        "        i += 6\n",
        "    return True\n",
        "num = int(input(\"Enter a number: \"))\n",
        "\n",
        "if is_prime(num):\n",
        "    print(f\"{num} is a prime number.\")\n",
        "else:\n",
        "    print(f\"{num} is not a prime number.\")"
      ],
      "metadata": {
        "colab": {
          "base_uri": "https://localhost:8080/"
        },
        "id": "m5udRq6GzOTx",
        "outputId": "f745dae2-95ec-411f-eebe-e7864e10312e"
      },
      "execution_count": null,
      "outputs": [
        {
          "output_type": "stream",
          "name": "stdout",
          "text": [
            "Enter a number: 2\n",
            "2 is a prime number.\n"
          ]
        }
      ]
    },
    {
      "cell_type": "markdown",
      "source": [
        "Take user input,\n",
        "\n",
        "example : if user gave 3,\n",
        "\n",
        "then print\n",
        "\n",
        "      *\n",
        "\n",
        "      *   *\n",
        "\n",
        "      *   *   *"
      ],
      "metadata": {
        "id": "fIoctDGWGMBN"
      }
    },
    {
      "cell_type": "code",
      "source": [
        "num_rows = int(input(\"Enter the number of rows: \"))\n",
        "for i in range(1, num_rows + 1):\n",
        "    print('*' * i)"
      ],
      "metadata": {
        "colab": {
          "base_uri": "https://localhost:8080/"
        },
        "id": "f1Dlfas9zS9p",
        "outputId": "3a75836c-6a91-46d3-ea90-601e224740d3"
      },
      "execution_count": null,
      "outputs": [
        {
          "output_type": "stream",
          "name": "stdout",
          "text": [
            "Enter the number of rows: 3\n",
            "*\n",
            "**\n",
            "***\n"
          ]
        }
      ]
    }
  ]
}